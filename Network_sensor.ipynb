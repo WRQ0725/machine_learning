{
 "cells": [
  {
   "cell_type": "markdown",
   "metadata": {},
   "source": [
    "# 感知机（单神经元）"
   ]
  },
  {
   "cell_type": "code",
   "execution_count": 12,
   "metadata": {},
   "outputs": [],
   "source": [
    "import numpy as np\n",
    "import matplotlib.pyplot as plt"
   ]
  },
  {
   "cell_type": "code",
   "execution_count": 13,
   "metadata": {},
   "outputs": [
    {
     "name": "stdout",
     "output_type": "stream",
     "text": [
      "[[ 0.48284004]\n",
      " [ 0.73487726]\n",
      " [-0.49615639]]\n"
     ]
    }
   ],
   "source": [
    "X=np.array([[1,3,3],\n",
    "            [1,4,3],\n",
    "            [1,1,1],\n",
    "            [1,0,2]\n",
    "            ])\n",
    "\n",
    "Y=np.array([[1],[1],[-1],[-1]])\n",
    "W=2*(np.random.random([3,1])-0.5)\n",
    "print(W)\n",
    "lr=0.11\n",
    "o=0\n",
    "def update():\n",
    "    global X,Y,W,lr\n",
    "    o=np.sign(np.dot(X,W))\n",
    "    W_C=lr*(X.T.dot(Y-o)/int(X.shape[0]))\n",
    "    W=W+W_C\n",
    "\n"
   ]
  },
  {
   "cell_type": "code",
   "execution_count": 14,
   "metadata": {},
   "outputs": [
    {
     "name": "stdout",
     "output_type": "stream",
     "text": [
      "[[ 0.42784004]\n",
      " [ 0.67987726]\n",
      " [-0.55115639]]\n",
      "0\n",
      "[[ 0.37284004]\n",
      " [ 0.62487726]\n",
      " [-0.60615639]]\n",
      "1\n",
      "[[ 0.31784004]\n",
      " [ 0.56987726]\n",
      " [-0.66115639]]\n",
      "2\n",
      "[[ 0.26284004]\n",
      " [ 0.51487726]\n",
      " [-0.71615639]]\n",
      "3\n",
      "[[ 0.26284004]\n",
      " [ 0.62487726]\n",
      " [-0.60615639]]\n",
      "4\n",
      "[[ 0.20784004]\n",
      " [ 0.56987726]\n",
      " [-0.66115639]]\n",
      "5\n",
      "[[ 0.20784004]\n",
      " [ 0.67987726]\n",
      " [-0.55115639]]\n",
      "6\n",
      "[[ 0.15284004]\n",
      " [ 0.62487726]\n",
      " [-0.60615639]]\n",
      "7\n",
      "[[ 0.09784004]\n",
      " [ 0.56987726]\n",
      " [-0.66115639]]\n",
      "8\n",
      "[[ 0.09784004]\n",
      " [ 0.67987726]\n",
      " [-0.55115639]]\n",
      "9\n",
      "[[ 0.04284004]\n",
      " [ 0.62487726]\n",
      " [-0.60615639]]\n",
      "10\n",
      "[[-0.01215996]\n",
      " [ 0.56987726]\n",
      " [-0.66115639]]\n",
      "11\n",
      "[[ 0.04284004]\n",
      " [ 0.73487726]\n",
      " [-0.49615639]]\n",
      "12\n",
      "[[-0.01215996]\n",
      " [ 0.67987726]\n",
      " [-0.55115639]]\n",
      "13\n",
      "[[-0.06715996]\n",
      " [ 0.62487726]\n",
      " [-0.60615639]]\n",
      "14\n",
      "[[-0.01215996]\n",
      " [ 0.78987726]\n",
      " [-0.44115639]]\n",
      "15\n",
      "[[-0.06715996]\n",
      " [ 0.73487726]\n",
      " [-0.49615639]]\n",
      "16\n",
      "[[-0.12215996]\n",
      " [ 0.67987726]\n",
      " [-0.55115639]]\n",
      "17\n",
      "[[-0.17715996]\n",
      " [ 0.62487726]\n",
      " [-0.60615639]]\n",
      "18\n",
      "[[-0.12215996]\n",
      " [ 0.78987726]\n",
      " [-0.44115639]]\n",
      "19\n",
      "[[-0.17715996]\n",
      " [ 0.73487726]\n",
      " [-0.49615639]]\n",
      "20\n",
      "[[-0.23215996]\n",
      " [ 0.67987726]\n",
      " [-0.55115639]]\n",
      "21\n",
      "Finished\n",
      "epoch 21\n"
     ]
    }
   ],
   "source": [
    "for i in range(100):\n",
    "    update()\n",
    "    print(W)\n",
    "    print(i)\n",
    "    O=np.sign(np.dot(X,W))\n",
    "    if (O==Y).all():\n",
    "        print('Finished')\n",
    "        print('epoch',i)\n",
    "        break\n"
   ]
  }
 ],
 "metadata": {
  "kernelspec": {
   "display_name": "pytorch",
   "language": "python",
   "name": "python3"
  },
  "language_info": {
   "codemirror_mode": {
    "name": "ipython",
    "version": 3
   },
   "file_extension": ".py",
   "mimetype": "text/x-python",
   "name": "python",
   "nbconvert_exporter": "python",
   "pygments_lexer": "ipython3",
   "version": "3.11.7"
  }
 },
 "nbformat": 4,
 "nbformat_minor": 2
}
